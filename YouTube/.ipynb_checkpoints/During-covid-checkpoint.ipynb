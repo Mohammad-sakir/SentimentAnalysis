{
 "cells": [
  {
   "cell_type": "code",
   "execution_count": 156,
   "metadata": {},
   "outputs": [],
   "source": [
    "import numpy as np # Import Numpy for data statistical analysis \n",
    "# Numpy is the fundamental package for scientific computing with Python\n",
    "import pandas as pd # Import Pandas for data manipulation using dataframes\n",
    "import matplotlib.pyplot as plt\n",
    "%matplotlib inline\n",
    "import seaborn as sns\n",
    "\n",
    "import json\n",
    "from pprint import pprint\n",
    "from langdetect import detect\n",
    "import urllib\n",
    "\n",
    "import os\n",
    "import itertools\n",
    "import collections\n",
    "import nltk\n",
    "from nltk.corpus import stopwords\n",
    "from nltk import bigrams\n",
    "# re stands for regular expressions. \n",
    "# Regular expressions are a special syntax that is used to identify patterns in a string.\n",
    "import re\n",
    "import networkx as nx\n",
    "from textblob import TextBlob\n",
    "\n",
    "from nltk import bigrams\n",
    "\n",
    "import warnings\n",
    "warnings.filterwarnings(\"ignore\")\n",
    "\n",
    "sns.set(font_scale=1.5)\n",
    "sns.set_style(\"white\")"
   ]
  },
  {
   "cell_type": "markdown",
   "metadata": {},
   "source": [
    "Importing Data from file"
   ]
  },
  {
   "cell_type": "code",
   "execution_count": 56,
   "metadata": {},
   "outputs": [],
   "source": [
    "with open('dataFiltYt.json') as f:\n",
    "    data = json.load(f)"
   ]
  },
  {
   "cell_type": "code",
   "execution_count": 57,
   "metadata": {},
   "outputs": [
    {
     "data": {
      "text/html": [
       "<div>\n",
       "<style scoped>\n",
       "    .dataframe tbody tr th:only-of-type {\n",
       "        vertical-align: middle;\n",
       "    }\n",
       "\n",
       "    .dataframe tbody tr th {\n",
       "        vertical-align: top;\n",
       "    }\n",
       "\n",
       "    .dataframe thead th {\n",
       "        text-align: right;\n",
       "    }\n",
       "</style>\n",
       "<table border=\"1\" class=\"dataframe\">\n",
       "  <thead>\n",
       "    <tr style=\"text-align: right;\">\n",
       "      <th></th>\n",
       "      <th>commentMadeOn</th>\n",
       "      <th>commentText</th>\n",
       "      <th>totalLikeCount</th>\n",
       "      <th>totalRepliesCount</th>\n",
       "    </tr>\n",
       "  </thead>\n",
       "  <tbody>\n",
       "    <tr>\n",
       "      <th>0</th>\n",
       "      <td>2019-10-14T17:11:04Z</td>\n",
       "      <td>Fuck u and stop ur adds</td>\n",
       "      <td>0</td>\n",
       "      <td>0</td>\n",
       "    </tr>\n",
       "    <tr>\n",
       "      <th>1</th>\n",
       "      <td>2018-10-14T10:44:47Z</td>\n",
       "      <td>I love carriage</td>\n",
       "      <td>0</td>\n",
       "      <td>0</td>\n",
       "    </tr>\n",
       "    <tr>\n",
       "      <th>2</th>\n",
       "      <td>2020-04-23T16:00:42Z</td>\n",
       "      <td>Oo fronliner sila kaya dapat hnd hinuhuli ng i...</td>\n",
       "      <td>0</td>\n",
       "      <td>0</td>\n",
       "    </tr>\n",
       "    <tr>\n",
       "      <th>3</th>\n",
       "      <td>2020-04-23T12:20:56Z</td>\n",
       "      <td>Sa katulad mo, kulang pa ang THANK YOU! Sir, G...</td>\n",
       "      <td>0</td>\n",
       "      <td>0</td>\n",
       "    </tr>\n",
       "    <tr>\n",
       "      <th>4</th>\n",
       "      <td>2020-04-23T12:18:48Z</td>\n",
       "      <td>Salute kuya grabfood driver!</td>\n",
       "      <td>1</td>\n",
       "      <td>0</td>\n",
       "    </tr>\n",
       "    <tr>\n",
       "      <th>...</th>\n",
       "      <td>...</td>\n",
       "      <td>...</td>\n",
       "      <td>...</td>\n",
       "      <td>...</td>\n",
       "    </tr>\n",
       "    <tr>\n",
       "      <th>1260</th>\n",
       "      <td>2018-10-22T10:49:18Z</td>\n",
       "      <td>We don’t have car for delivery. How can we hav...</td>\n",
       "      <td>0</td>\n",
       "      <td>0</td>\n",
       "    </tr>\n",
       "    <tr>\n",
       "      <th>1261</th>\n",
       "      <td>2018-01-25T18:39:58Z</td>\n",
       "      <td>Mapcode not right alwasy</td>\n",
       "      <td>0</td>\n",
       "      <td>0</td>\n",
       "    </tr>\n",
       "    <tr>\n",
       "      <th>1262</th>\n",
       "      <td>2013-08-19T06:07:56Z</td>\n",
       "      <td>Hey Jonathan - sorry about your experience. If...</td>\n",
       "      <td>0</td>\n",
       "      <td>0</td>\n",
       "    </tr>\n",
       "    <tr>\n",
       "      <th>1263</th>\n",
       "      <td>2020-06-24T18:04:59Z</td>\n",
       "      <td>Careem app not showing any restaurant name lis...</td>\n",
       "      <td>0</td>\n",
       "      <td>0</td>\n",
       "    </tr>\n",
       "    <tr>\n",
       "      <th>1264</th>\n",
       "      <td>2020-01-07T11:36:00Z</td>\n",
       "      <td>I want join to careem food delivery so how</td>\n",
       "      <td>0</td>\n",
       "      <td>0</td>\n",
       "    </tr>\n",
       "  </tbody>\n",
       "</table>\n",
       "<p>1265 rows × 4 columns</p>\n",
       "</div>"
      ],
      "text/plain": [
       "             commentMadeOn                                        commentText  \\\n",
       "0     2019-10-14T17:11:04Z                            Fuck u and stop ur adds   \n",
       "1     2018-10-14T10:44:47Z                                    I love carriage   \n",
       "2     2020-04-23T16:00:42Z  Oo fronliner sila kaya dapat hnd hinuhuli ng i...   \n",
       "3     2020-04-23T12:20:56Z  Sa katulad mo, kulang pa ang THANK YOU! Sir, G...   \n",
       "4     2020-04-23T12:18:48Z                       Salute kuya grabfood driver!   \n",
       "...                    ...                                                ...   \n",
       "1260  2018-10-22T10:49:18Z  We don’t have car for delivery. How can we hav...   \n",
       "1261  2018-01-25T18:39:58Z                           Mapcode not right alwasy   \n",
       "1262  2013-08-19T06:07:56Z  Hey Jonathan - sorry about your experience. If...   \n",
       "1263  2020-06-24T18:04:59Z  Careem app not showing any restaurant name lis...   \n",
       "1264  2020-01-07T11:36:00Z         I want join to careem food delivery so how   \n",
       "\n",
       "      totalLikeCount  totalRepliesCount  \n",
       "0                  0                  0  \n",
       "1                  0                  0  \n",
       "2                  0                  0  \n",
       "3                  0                  0  \n",
       "4                  1                  0  \n",
       "...              ...                ...  \n",
       "1260               0                  0  \n",
       "1261               0                  0  \n",
       "1262               0                  0  \n",
       "1263               0                  0  \n",
       "1264               0                  0  \n",
       "\n",
       "[1265 rows x 4 columns]"
      ]
     },
     "execution_count": 57,
     "metadata": {},
     "output_type": "execute_result"
    }
   ],
   "source": [
    "df1 = pd.json_normalize((data[i] for i in data.keys()), 'comments')\n",
    "field = ['commentMadeOn', 'commentText', 'totalLikeCount', 'totalRepliesCount']\n",
    "\n",
    "data_df = df1[field]\n",
    "\n",
    "data_df"
   ]
  },
  {
   "cell_type": "code",
   "execution_count": 4,
   "metadata": {
    "collapsed": true
   },
   "outputs": [
    {
     "name": "stdout",
     "output_type": "stream",
     "text": [
      "<class 'pandas.core.frame.DataFrame'>\n",
      "RangeIndex: 1265 entries, 0 to 1264\n",
      "Data columns (total 4 columns):\n",
      " #   Column             Non-Null Count  Dtype \n",
      "---  ------             --------------  ----- \n",
      " 0   commentMadeOn      1265 non-null   object\n",
      " 1   commentText        1265 non-null   object\n",
      " 2   totalLikeCount     1265 non-null   int64 \n",
      " 3   totalRepliesCount  1265 non-null   int64 \n",
      "dtypes: int64(2), object(2)\n",
      "memory usage: 39.7+ KB\n"
     ]
    }
   ],
   "source": [
    "data_df.info()"
   ]
  },
  {
   "cell_type": "code",
   "execution_count": 58,
   "metadata": {},
   "outputs": [
    {
     "data": {
      "text/html": [
       "<div>\n",
       "<style scoped>\n",
       "    .dataframe tbody tr th:only-of-type {\n",
       "        vertical-align: middle;\n",
       "    }\n",
       "\n",
       "    .dataframe tbody tr th {\n",
       "        vertical-align: top;\n",
       "    }\n",
       "\n",
       "    .dataframe thead th {\n",
       "        text-align: right;\n",
       "    }\n",
       "</style>\n",
       "<table border=\"1\" class=\"dataframe\">\n",
       "  <thead>\n",
       "    <tr style=\"text-align: right;\">\n",
       "      <th></th>\n",
       "      <th>commentDate</th>\n",
       "      <th>commentText</th>\n",
       "      <th>totalLikeCount</th>\n",
       "      <th>totalRepliesCount</th>\n",
       "    </tr>\n",
       "  </thead>\n",
       "  <tbody>\n",
       "    <tr>\n",
       "      <th>1262</th>\n",
       "      <td>2013-08-19</td>\n",
       "      <td>Hey Jonathan - sorry about your experience. If...</td>\n",
       "      <td>0</td>\n",
       "      <td>0</td>\n",
       "    </tr>\n",
       "    <tr>\n",
       "      <th>368</th>\n",
       "      <td>2017-03-31</td>\n",
       "      <td>Great job thanks MasterCard</td>\n",
       "      <td>0</td>\n",
       "      <td>0</td>\n",
       "    </tr>\n",
       "    <tr>\n",
       "      <th>195</th>\n",
       "      <td>2017-11-09</td>\n",
       "      <td>NICE</td>\n",
       "      <td>1</td>\n",
       "      <td>0</td>\n",
       "    </tr>\n",
       "    <tr>\n",
       "      <th>377</th>\n",
       "      <td>2017-11-24</td>\n",
       "      <td>Nice brother</td>\n",
       "      <td>0</td>\n",
       "      <td>0</td>\n",
       "    </tr>\n",
       "    <tr>\n",
       "      <th>378</th>\n",
       "      <td>2017-11-24</td>\n",
       "      <td>fabulous</td>\n",
       "      <td>0</td>\n",
       "      <td>0</td>\n",
       "    </tr>\n",
       "    <tr>\n",
       "      <th>...</th>\n",
       "      <td>...</td>\n",
       "      <td>...</td>\n",
       "      <td>...</td>\n",
       "      <td>...</td>\n",
       "    </tr>\n",
       "    <tr>\n",
       "      <th>450</th>\n",
       "      <td>2020-07-10</td>\n",
       "      <td>@PMN5AT</td>\n",
       "      <td>0</td>\n",
       "      <td>0</td>\n",
       "    </tr>\n",
       "    <tr>\n",
       "      <th>174</th>\n",
       "      <td>2020-07-10</td>\n",
       "      <td>Good yar</td>\n",
       "      <td>1</td>\n",
       "      <td>0</td>\n",
       "    </tr>\n",
       "    <tr>\n",
       "      <th>589</th>\n",
       "      <td>2020-07-10</td>\n",
       "      <td>Boycott uber which supress people under occupu...</td>\n",
       "      <td>0</td>\n",
       "      <td>0</td>\n",
       "    </tr>\n",
       "    <tr>\n",
       "      <th>588</th>\n",
       "      <td>2020-07-10</td>\n",
       "      <td>Dont use our terms #FreePalestine 🇵🇸🇵🇸🇵🇸</td>\n",
       "      <td>0</td>\n",
       "      <td>0</td>\n",
       "    </tr>\n",
       "    <tr>\n",
       "      <th>587</th>\n",
       "      <td>2020-07-11</td>\n",
       "      <td>India is their in your list?...if not then, Pl...</td>\n",
       "      <td>0</td>\n",
       "      <td>0</td>\n",
       "    </tr>\n",
       "  </tbody>\n",
       "</table>\n",
       "<p>1265 rows × 4 columns</p>\n",
       "</div>"
      ],
      "text/plain": [
       "     commentDate                                        commentText  \\\n",
       "1262  2013-08-19  Hey Jonathan - sorry about your experience. If...   \n",
       "368   2017-03-31                        Great job thanks MasterCard   \n",
       "195   2017-11-09                                               NICE   \n",
       "377   2017-11-24                                       Nice brother   \n",
       "378   2017-11-24                                           fabulous   \n",
       "...          ...                                                ...   \n",
       "450   2020-07-10                                            @PMN5AT   \n",
       "174   2020-07-10                                           Good yar   \n",
       "589   2020-07-10  Boycott uber which supress people under occupu...   \n",
       "588   2020-07-10           Dont use our terms #FreePalestine 🇵🇸🇵🇸🇵🇸   \n",
       "587   2020-07-11  India is their in your list?...if not then, Pl...   \n",
       "\n",
       "      totalLikeCount  totalRepliesCount  \n",
       "1262               0                  0  \n",
       "368                0                  0  \n",
       "195                1                  0  \n",
       "377                0                  0  \n",
       "378                0                  0  \n",
       "...              ...                ...  \n",
       "450                0                  0  \n",
       "174                1                  0  \n",
       "589                0                  0  \n",
       "588                0                  0  \n",
       "587                0                  0  \n",
       "\n",
       "[1265 rows x 4 columns]"
      ]
     },
     "execution_count": 58,
     "metadata": {},
     "output_type": "execute_result"
    }
   ],
   "source": [
    "data_df['commentMadeOn'] = pd.to_datetime(data_df['commentMadeOn'])\n",
    "data_df['commentDate'] = data_df['commentMadeOn'].dt.date\n",
    "\n",
    "comFields = [\"commentDate\", \"commentText\", \"totalLikeCount\", \"totalRepliesCount\"]\n",
    "com_df = data_df[comFields]\n",
    "\n",
    "com_df.sort_values(by = 'commentDate')"
   ]
  },
  {
   "cell_type": "code",
   "execution_count": 59,
   "metadata": {
    "scrolled": true
   },
   "outputs": [
    {
     "data": {
      "text/html": [
       "<div>\n",
       "<style scoped>\n",
       "    .dataframe tbody tr th:only-of-type {\n",
       "        vertical-align: middle;\n",
       "    }\n",
       "\n",
       "    .dataframe tbody tr th {\n",
       "        vertical-align: top;\n",
       "    }\n",
       "\n",
       "    .dataframe thead th {\n",
       "        text-align: right;\n",
       "    }\n",
       "</style>\n",
       "<table border=\"1\" class=\"dataframe\">\n",
       "  <thead>\n",
       "    <tr style=\"text-align: right;\">\n",
       "      <th></th>\n",
       "      <th>commentDate</th>\n",
       "      <th>commentText</th>\n",
       "      <th>totalLikeCount</th>\n",
       "      <th>totalRepliesCount</th>\n",
       "    </tr>\n",
       "  </thead>\n",
       "  <tbody>\n",
       "    <tr>\n",
       "      <th>0</th>\n",
       "      <td>2019-10-14</td>\n",
       "      <td>Fuck u and stop ur adds</td>\n",
       "      <td>0</td>\n",
       "      <td>0</td>\n",
       "    </tr>\n",
       "    <tr>\n",
       "      <th>1</th>\n",
       "      <td>2018-10-14</td>\n",
       "      <td>I love carriage</td>\n",
       "      <td>0</td>\n",
       "      <td>0</td>\n",
       "    </tr>\n",
       "    <tr>\n",
       "      <th>2</th>\n",
       "      <td>2020-04-23</td>\n",
       "      <td>Oo fronliner sila kaya dapat hnd hinuhuli ng i...</td>\n",
       "      <td>0</td>\n",
       "      <td>0</td>\n",
       "    </tr>\n",
       "    <tr>\n",
       "      <th>3</th>\n",
       "      <td>2020-04-23</td>\n",
       "      <td>Sa katulad mo, kulang pa ang THANK YOU! Sir, G...</td>\n",
       "      <td>0</td>\n",
       "      <td>0</td>\n",
       "    </tr>\n",
       "    <tr>\n",
       "      <th>4</th>\n",
       "      <td>2020-04-23</td>\n",
       "      <td>Salute kuya grabfood driver!</td>\n",
       "      <td>1</td>\n",
       "      <td>0</td>\n",
       "    </tr>\n",
       "    <tr>\n",
       "      <th>...</th>\n",
       "      <td>...</td>\n",
       "      <td>...</td>\n",
       "      <td>...</td>\n",
       "      <td>...</td>\n",
       "    </tr>\n",
       "    <tr>\n",
       "      <th>1260</th>\n",
       "      <td>2018-10-22</td>\n",
       "      <td>We don’t have car for delivery. How can we hav...</td>\n",
       "      <td>0</td>\n",
       "      <td>0</td>\n",
       "    </tr>\n",
       "    <tr>\n",
       "      <th>1261</th>\n",
       "      <td>2018-01-25</td>\n",
       "      <td>Mapcode not right alwasy</td>\n",
       "      <td>0</td>\n",
       "      <td>0</td>\n",
       "    </tr>\n",
       "    <tr>\n",
       "      <th>1262</th>\n",
       "      <td>2013-08-19</td>\n",
       "      <td>Hey Jonathan - sorry about your experience. If...</td>\n",
       "      <td>0</td>\n",
       "      <td>0</td>\n",
       "    </tr>\n",
       "    <tr>\n",
       "      <th>1263</th>\n",
       "      <td>2020-06-24</td>\n",
       "      <td>Careem app not showing any restaurant name lis...</td>\n",
       "      <td>0</td>\n",
       "      <td>0</td>\n",
       "    </tr>\n",
       "    <tr>\n",
       "      <th>1264</th>\n",
       "      <td>2020-01-07</td>\n",
       "      <td>I want join to careem food delivery so how</td>\n",
       "      <td>0</td>\n",
       "      <td>0</td>\n",
       "    </tr>\n",
       "  </tbody>\n",
       "</table>\n",
       "<p>1265 rows × 4 columns</p>\n",
       "</div>"
      ],
      "text/plain": [
       "     commentDate                                        commentText  \\\n",
       "0     2019-10-14                            Fuck u and stop ur adds   \n",
       "1     2018-10-14                                    I love carriage   \n",
       "2     2020-04-23  Oo fronliner sila kaya dapat hnd hinuhuli ng i...   \n",
       "3     2020-04-23  Sa katulad mo, kulang pa ang THANK YOU! Sir, G...   \n",
       "4     2020-04-23                       Salute kuya grabfood driver!   \n",
       "...          ...                                                ...   \n",
       "1260  2018-10-22  We don’t have car for delivery. How can we hav...   \n",
       "1261  2018-01-25                           Mapcode not right alwasy   \n",
       "1262  2013-08-19  Hey Jonathan - sorry about your experience. If...   \n",
       "1263  2020-06-24  Careem app not showing any restaurant name lis...   \n",
       "1264  2020-01-07         I want join to careem food delivery so how   \n",
       "\n",
       "      totalLikeCount  totalRepliesCount  \n",
       "0                  0                  0  \n",
       "1                  0                  0  \n",
       "2                  0                  0  \n",
       "3                  0                  0  \n",
       "4                  1                  0  \n",
       "...              ...                ...  \n",
       "1260               0                  0  \n",
       "1261               0                  0  \n",
       "1262               0                  0  \n",
       "1263               0                  0  \n",
       "1264               0                  0  \n",
       "\n",
       "[1265 rows x 4 columns]"
      ]
     },
     "execution_count": 59,
     "metadata": {},
     "output_type": "execute_result"
    }
   ],
   "source": [
    "com_df['commentDate'] = pd.to_datetime(com_df['commentDate'])\n",
    "com_df"
   ]
  },
  {
   "cell_type": "code",
   "execution_count": 7,
   "metadata": {
    "collapsed": true
   },
   "outputs": [
    {
     "name": "stdout",
     "output_type": "stream",
     "text": [
      "<class 'pandas.core.frame.DataFrame'>\n",
      "RangeIndex: 1265 entries, 0 to 1264\n",
      "Data columns (total 4 columns):\n",
      " #   Column             Non-Null Count  Dtype         \n",
      "---  ------             --------------  -----         \n",
      " 0   commentDate        1265 non-null   datetime64[ns]\n",
      " 1   commentText        1265 non-null   object        \n",
      " 2   totalLikeCount     1265 non-null   int64         \n",
      " 3   totalRepliesCount  1265 non-null   int64         \n",
      "dtypes: datetime64[ns](1), int64(2), object(1)\n",
      "memory usage: 39.7+ KB\n"
     ]
    }
   ],
   "source": [
    "com_df.info()"
   ]
  },
  {
   "cell_type": "markdown",
   "metadata": {},
   "source": [
    "# Comments from 1st March till date"
   ]
  },
  {
   "cell_type": "code",
   "execution_count": 60,
   "metadata": {},
   "outputs": [
    {
     "data": {
      "text/html": [
       "<div>\n",
       "<style scoped>\n",
       "    .dataframe tbody tr th:only-of-type {\n",
       "        vertical-align: middle;\n",
       "    }\n",
       "\n",
       "    .dataframe tbody tr th {\n",
       "        vertical-align: top;\n",
       "    }\n",
       "\n",
       "    .dataframe thead th {\n",
       "        text-align: right;\n",
       "    }\n",
       "</style>\n",
       "<table border=\"1\" class=\"dataframe\">\n",
       "  <thead>\n",
       "    <tr style=\"text-align: right;\">\n",
       "      <th></th>\n",
       "      <th>commentDate</th>\n",
       "      <th>commentText</th>\n",
       "      <th>totalLikeCount</th>\n",
       "      <th>totalRepliesCount</th>\n",
       "    </tr>\n",
       "  </thead>\n",
       "  <tbody>\n",
       "    <tr>\n",
       "      <th>300</th>\n",
       "      <td>2020-03-04</td>\n",
       "      <td>Bhai cream main kya rate milta hy 1 delevery p...</td>\n",
       "      <td>0</td>\n",
       "      <td>1</td>\n",
       "    </tr>\n",
       "    <tr>\n",
       "      <th>734</th>\n",
       "      <td>2020-03-06</td>\n",
       "      <td>Why is that Asian guy talking like that</td>\n",
       "      <td>0</td>\n",
       "      <td>0</td>\n",
       "    </tr>\n",
       "    <tr>\n",
       "      <th>731</th>\n",
       "      <td>2020-03-07</td>\n",
       "      <td>Please open your store in Pakistan also</td>\n",
       "      <td>0</td>\n",
       "      <td>0</td>\n",
       "    </tr>\n",
       "    <tr>\n",
       "      <th>733</th>\n",
       "      <td>2020-03-07</td>\n",
       "      <td>This food looks amazing! Great story!</td>\n",
       "      <td>0</td>\n",
       "      <td>0</td>\n",
       "    </tr>\n",
       "    <tr>\n",
       "      <th>732</th>\n",
       "      <td>2020-03-07</td>\n",
       "      <td>typical Americans thinking they're the only on...</td>\n",
       "      <td>0</td>\n",
       "      <td>0</td>\n",
       "    </tr>\n",
       "    <tr>\n",
       "      <th>...</th>\n",
       "      <td>...</td>\n",
       "      <td>...</td>\n",
       "      <td>...</td>\n",
       "      <td>...</td>\n",
       "    </tr>\n",
       "    <tr>\n",
       "      <th>174</th>\n",
       "      <td>2020-07-10</td>\n",
       "      <td>Good yar</td>\n",
       "      <td>1</td>\n",
       "      <td>0</td>\n",
       "    </tr>\n",
       "    <tr>\n",
       "      <th>588</th>\n",
       "      <td>2020-07-10</td>\n",
       "      <td>Dont use our terms #FreePalestine 🇵🇸🇵🇸🇵🇸</td>\n",
       "      <td>0</td>\n",
       "      <td>0</td>\n",
       "    </tr>\n",
       "    <tr>\n",
       "      <th>450</th>\n",
       "      <td>2020-07-10</td>\n",
       "      <td>@PMN5AT</td>\n",
       "      <td>0</td>\n",
       "      <td>0</td>\n",
       "    </tr>\n",
       "    <tr>\n",
       "      <th>589</th>\n",
       "      <td>2020-07-10</td>\n",
       "      <td>Boycott uber which supress people under occupu...</td>\n",
       "      <td>0</td>\n",
       "      <td>0</td>\n",
       "    </tr>\n",
       "    <tr>\n",
       "      <th>587</th>\n",
       "      <td>2020-07-11</td>\n",
       "      <td>India is their in your list?...if not then, Pl...</td>\n",
       "      <td>0</td>\n",
       "      <td>0</td>\n",
       "    </tr>\n",
       "  </tbody>\n",
       "</table>\n",
       "<p>566 rows × 4 columns</p>\n",
       "</div>"
      ],
      "text/plain": [
       "    commentDate                                        commentText  \\\n",
       "300  2020-03-04  Bhai cream main kya rate milta hy 1 delevery p...   \n",
       "734  2020-03-06            Why is that Asian guy talking like that   \n",
       "731  2020-03-07            Please open your store in Pakistan also   \n",
       "733  2020-03-07              This food looks amazing! Great story!   \n",
       "732  2020-03-07  typical Americans thinking they're the only on...   \n",
       "..          ...                                                ...   \n",
       "174  2020-07-10                                           Good yar   \n",
       "588  2020-07-10           Dont use our terms #FreePalestine 🇵🇸🇵🇸🇵🇸   \n",
       "450  2020-07-10                                            @PMN5AT   \n",
       "589  2020-07-10  Boycott uber which supress people under occupu...   \n",
       "587  2020-07-11  India is their in your list?...if not then, Pl...   \n",
       "\n",
       "     totalLikeCount  totalRepliesCount  \n",
       "300               0                  1  \n",
       "734               0                  0  \n",
       "731               0                  0  \n",
       "733               0                  0  \n",
       "732               0                  0  \n",
       "..              ...                ...  \n",
       "174               1                  0  \n",
       "588               0                  0  \n",
       "450               0                  0  \n",
       "589               0                  0  \n",
       "587               0                  0  \n",
       "\n",
       "[566 rows x 4 columns]"
      ]
     },
     "execution_count": 60,
     "metadata": {},
     "output_type": "execute_result"
    }
   ],
   "source": [
    "split_date = pd.datetime(2020,2,29)\n",
    "\n",
    "# pre_df = com_df.loc[com_df['commentDate'] <= split_date]\n",
    "pre_df = com_df.loc[com_df['commentDate'] > split_date]\n",
    "pre_df_sorted = pre_df.sort_values(by='commentDate')\n",
    "pre_df_sorted"
   ]
  },
  {
   "cell_type": "markdown",
   "metadata": {},
   "source": [
    "# Language Cleaning"
   ]
  },
  {
   "cell_type": "code",
   "execution_count": 61,
   "metadata": {},
   "outputs": [],
   "source": [
    "for com in pre_df_sorted['commentText']:\n",
    "    try:\n",
    "        language = detect(com)\n",
    "    except:\n",
    "        language = \"error\"\n",
    "        unDetectable = pre_df_sorted[pre_df_sorted['commentText'] == com].index\n",
    "        pre_df_sorted.drop(unDetectable, inplace = True)\n",
    "#         print('The Culprit: ', com)"
   ]
  },
  {
   "cell_type": "code",
   "execution_count": 69,
   "metadata": {},
   "outputs": [
    {
     "name": "stdout",
     "output_type": "stream",
     "text": [
      "2\n"
     ]
    }
   ],
   "source": [
    "otherLang = []\n",
    "for com in pre_df_sorted['commentText']:\n",
    "    if detect(com) != 'en':\n",
    "        otherLang.append(pre_df_sorted[pre_df_sorted['commentText'] == com].index)\n",
    "        \n",
    "print(len(otherLang))"
   ]
  },
  {
   "cell_type": "code",
   "execution_count": 70,
   "metadata": {},
   "outputs": [],
   "source": [
    "for i in otherLang:\n",
    "    pre_df_sorted.drop(i, inplace=True)"
   ]
  },
  {
   "cell_type": "code",
   "execution_count": 71,
   "metadata": {},
   "outputs": [
    {
     "data": {
      "text/html": [
       "<div>\n",
       "<style scoped>\n",
       "    .dataframe tbody tr th:only-of-type {\n",
       "        vertical-align: middle;\n",
       "    }\n",
       "\n",
       "    .dataframe tbody tr th {\n",
       "        vertical-align: top;\n",
       "    }\n",
       "\n",
       "    .dataframe thead th {\n",
       "        text-align: right;\n",
       "    }\n",
       "</style>\n",
       "<table border=\"1\" class=\"dataframe\">\n",
       "  <thead>\n",
       "    <tr style=\"text-align: right;\">\n",
       "      <th></th>\n",
       "      <th>commentDate</th>\n",
       "      <th>commentText</th>\n",
       "      <th>totalLikeCount</th>\n",
       "      <th>totalRepliesCount</th>\n",
       "    </tr>\n",
       "  </thead>\n",
       "  <tbody>\n",
       "    <tr>\n",
       "      <th>300</th>\n",
       "      <td>2020-03-04</td>\n",
       "      <td>Bhai cream main kya rate milta hy 1 delevery p...</td>\n",
       "      <td>0</td>\n",
       "      <td>1</td>\n",
       "    </tr>\n",
       "    <tr>\n",
       "      <th>734</th>\n",
       "      <td>2020-03-06</td>\n",
       "      <td>Why is that Asian guy talking like that</td>\n",
       "      <td>0</td>\n",
       "      <td>0</td>\n",
       "    </tr>\n",
       "    <tr>\n",
       "      <th>731</th>\n",
       "      <td>2020-03-07</td>\n",
       "      <td>Please open your store in Pakistan also</td>\n",
       "      <td>0</td>\n",
       "      <td>0</td>\n",
       "    </tr>\n",
       "    <tr>\n",
       "      <th>733</th>\n",
       "      <td>2020-03-07</td>\n",
       "      <td>This food looks amazing! Great story!</td>\n",
       "      <td>0</td>\n",
       "      <td>0</td>\n",
       "    </tr>\n",
       "    <tr>\n",
       "      <th>732</th>\n",
       "      <td>2020-03-07</td>\n",
       "      <td>typical Americans thinking they're the only on...</td>\n",
       "      <td>0</td>\n",
       "      <td>0</td>\n",
       "    </tr>\n",
       "    <tr>\n",
       "      <th>...</th>\n",
       "      <td>...</td>\n",
       "      <td>...</td>\n",
       "      <td>...</td>\n",
       "      <td>...</td>\n",
       "    </tr>\n",
       "    <tr>\n",
       "      <th>115</th>\n",
       "      <td>2020-07-07</td>\n",
       "      <td>Yumyum, keepsafe always keep vlogging BEBELABS...</td>\n",
       "      <td>0</td>\n",
       "      <td>0</td>\n",
       "    </tr>\n",
       "    <tr>\n",
       "      <th>590</th>\n",
       "      <td>2020-07-07</td>\n",
       "      <td>Are there any halal guys shop in Vancouver?</td>\n",
       "      <td>0</td>\n",
       "      <td>0</td>\n",
       "    </tr>\n",
       "    <tr>\n",
       "      <th>509</th>\n",
       "      <td>2020-07-09</td>\n",
       "      <td>This is something big bro</td>\n",
       "      <td>1</td>\n",
       "      <td>1</td>\n",
       "    </tr>\n",
       "    <tr>\n",
       "      <th>589</th>\n",
       "      <td>2020-07-10</td>\n",
       "      <td>Boycott uber which supress people under occupu...</td>\n",
       "      <td>0</td>\n",
       "      <td>0</td>\n",
       "    </tr>\n",
       "    <tr>\n",
       "      <th>587</th>\n",
       "      <td>2020-07-11</td>\n",
       "      <td>India is their in your list?...if not then, Pl...</td>\n",
       "      <td>0</td>\n",
       "      <td>0</td>\n",
       "    </tr>\n",
       "  </tbody>\n",
       "</table>\n",
       "<p>385 rows × 4 columns</p>\n",
       "</div>"
      ],
      "text/plain": [
       "    commentDate                                        commentText  \\\n",
       "300  2020-03-04  Bhai cream main kya rate milta hy 1 delevery p...   \n",
       "734  2020-03-06            Why is that Asian guy talking like that   \n",
       "731  2020-03-07            Please open your store in Pakistan also   \n",
       "733  2020-03-07              This food looks amazing! Great story!   \n",
       "732  2020-03-07  typical Americans thinking they're the only on...   \n",
       "..          ...                                                ...   \n",
       "115  2020-07-07  Yumyum, keepsafe always keep vlogging BEBELABS...   \n",
       "590  2020-07-07        Are there any halal guys shop in Vancouver?   \n",
       "509  2020-07-09                          This is something big bro   \n",
       "589  2020-07-10  Boycott uber which supress people under occupu...   \n",
       "587  2020-07-11  India is their in your list?...if not then, Pl...   \n",
       "\n",
       "     totalLikeCount  totalRepliesCount  \n",
       "300               0                  1  \n",
       "734               0                  0  \n",
       "731               0                  0  \n",
       "733               0                  0  \n",
       "732               0                  0  \n",
       "..              ...                ...  \n",
       "115               0                  0  \n",
       "590               0                  0  \n",
       "509               1                  1  \n",
       "589               0                  0  \n",
       "587               0                  0  \n",
       "\n",
       "[385 rows x 4 columns]"
      ]
     },
     "execution_count": 71,
     "metadata": {},
     "output_type": "execute_result"
    }
   ],
   "source": [
    "pre_df_sorted"
   ]
  },
  {
   "cell_type": "markdown",
   "metadata": {},
   "source": [
    "# URL and Punctuation Cleaning"
   ]
  },
  {
   "cell_type": "code",
   "execution_count": 72,
   "metadata": {},
   "outputs": [],
   "source": [
    "def remove_url(txt):\n",
    "    \"\"\"Replace URLs found in a text string with nothing \n",
    "    (i.e. it will remove the URL from the string).\n",
    "\n",
    "    Parameters\n",
    "    ----------\n",
    "    txt : string\n",
    "        A text string that you want to parse and remove urls.\n",
    "\n",
    "    Returns\n",
    "    -------\n",
    "    The same txt string with url's removed.\n",
    "    \"\"\"\n",
    "\n",
    "    return \" \".join(re.sub(\"([^0-9A-Za-z \\t])|(\\w+:\\/\\/\\S+)\", \"\", txt).split())"
   ]
  },
  {
   "cell_type": "code",
   "execution_count": 73,
   "metadata": {},
   "outputs": [],
   "source": [
    "coms_no_url = [remove_url(text) for text in pre_df_sorted['commentText']]\n",
    "# print(len(coms_no_url))"
   ]
  },
  {
   "cell_type": "code",
   "execution_count": 74,
   "metadata": {},
   "outputs": [],
   "source": [
    "coms_nrl_df = pre_df_sorted\n",
    "# coms_no_url_df.drop(coms_no_url_df.columns[3], axis=1, inplace=True)\n",
    "\n",
    "coms_nrl_df['commentText'] = coms_no_url\n",
    "# coms_nrl_df\n",
    "# coms_no_url_df.columns[3]"
   ]
  },
  {
   "cell_type": "code",
   "execution_count": 75,
   "metadata": {},
   "outputs": [
    {
     "data": {
      "text/html": [
       "<div>\n",
       "<style scoped>\n",
       "    .dataframe tbody tr th:only-of-type {\n",
       "        vertical-align: middle;\n",
       "    }\n",
       "\n",
       "    .dataframe tbody tr th {\n",
       "        vertical-align: top;\n",
       "    }\n",
       "\n",
       "    .dataframe thead th {\n",
       "        text-align: right;\n",
       "    }\n",
       "</style>\n",
       "<table border=\"1\" class=\"dataframe\">\n",
       "  <thead>\n",
       "    <tr style=\"text-align: right;\">\n",
       "      <th></th>\n",
       "      <th>commentDate</th>\n",
       "      <th>commentText</th>\n",
       "      <th>totalLikeCount</th>\n",
       "      <th>totalRepliesCount</th>\n",
       "      <th>characterCount</th>\n",
       "    </tr>\n",
       "  </thead>\n",
       "  <tbody>\n",
       "    <tr>\n",
       "      <th>300</th>\n",
       "      <td>2020-03-04</td>\n",
       "      <td>Bhai cream main kya rate milta hy 1 delevery p...</td>\n",
       "      <td>0</td>\n",
       "      <td>1</td>\n",
       "      <td>56</td>\n",
       "    </tr>\n",
       "    <tr>\n",
       "      <th>734</th>\n",
       "      <td>2020-03-06</td>\n",
       "      <td>Why is that Asian guy talking like that</td>\n",
       "      <td>0</td>\n",
       "      <td>0</td>\n",
       "      <td>39</td>\n",
       "    </tr>\n",
       "    <tr>\n",
       "      <th>731</th>\n",
       "      <td>2020-03-07</td>\n",
       "      <td>Please open your store in Pakistan also</td>\n",
       "      <td>0</td>\n",
       "      <td>0</td>\n",
       "      <td>39</td>\n",
       "    </tr>\n",
       "    <tr>\n",
       "      <th>733</th>\n",
       "      <td>2020-03-07</td>\n",
       "      <td>This food looks amazing Great story</td>\n",
       "      <td>0</td>\n",
       "      <td>0</td>\n",
       "      <td>35</td>\n",
       "    </tr>\n",
       "    <tr>\n",
       "      <th>732</th>\n",
       "      <td>2020-03-07</td>\n",
       "      <td>typical Americans thinking theyre the only one...</td>\n",
       "      <td>0</td>\n",
       "      <td>0</td>\n",
       "      <td>106</td>\n",
       "    </tr>\n",
       "    <tr>\n",
       "      <th>...</th>\n",
       "      <td>...</td>\n",
       "      <td>...</td>\n",
       "      <td>...</td>\n",
       "      <td>...</td>\n",
       "      <td>...</td>\n",
       "    </tr>\n",
       "    <tr>\n",
       "      <th>115</th>\n",
       "      <td>2020-07-07</td>\n",
       "      <td>Yumyum keepsafe always keep vlogging BEBELABS ...</td>\n",
       "      <td>0</td>\n",
       "      <td>0</td>\n",
       "      <td>88</td>\n",
       "    </tr>\n",
       "    <tr>\n",
       "      <th>590</th>\n",
       "      <td>2020-07-07</td>\n",
       "      <td>Are there any halal guys shop in Vancouver</td>\n",
       "      <td>0</td>\n",
       "      <td>0</td>\n",
       "      <td>42</td>\n",
       "    </tr>\n",
       "    <tr>\n",
       "      <th>509</th>\n",
       "      <td>2020-07-09</td>\n",
       "      <td>This is something big bro</td>\n",
       "      <td>1</td>\n",
       "      <td>1</td>\n",
       "      <td>25</td>\n",
       "    </tr>\n",
       "    <tr>\n",
       "      <th>589</th>\n",
       "      <td>2020-07-10</td>\n",
       "      <td>Boycott uber which supress people under occupu...</td>\n",
       "      <td>0</td>\n",
       "      <td>0</td>\n",
       "      <td>50</td>\n",
       "    </tr>\n",
       "    <tr>\n",
       "      <th>587</th>\n",
       "      <td>2020-07-11</td>\n",
       "      <td>India is their in your listif not then Please ...</td>\n",
       "      <td>0</td>\n",
       "      <td>0</td>\n",
       "      <td>75</td>\n",
       "    </tr>\n",
       "  </tbody>\n",
       "</table>\n",
       "<p>385 rows × 5 columns</p>\n",
       "</div>"
      ],
      "text/plain": [
       "    commentDate                                        commentText  \\\n",
       "300  2020-03-04  Bhai cream main kya rate milta hy 1 delevery p...   \n",
       "734  2020-03-06            Why is that Asian guy talking like that   \n",
       "731  2020-03-07            Please open your store in Pakistan also   \n",
       "733  2020-03-07                This food looks amazing Great story   \n",
       "732  2020-03-07  typical Americans thinking theyre the only one...   \n",
       "..          ...                                                ...   \n",
       "115  2020-07-07  Yumyum keepsafe always keep vlogging BEBELABS ...   \n",
       "590  2020-07-07         Are there any halal guys shop in Vancouver   \n",
       "509  2020-07-09                          This is something big bro   \n",
       "589  2020-07-10  Boycott uber which supress people under occupu...   \n",
       "587  2020-07-11  India is their in your listif not then Please ...   \n",
       "\n",
       "     totalLikeCount  totalRepliesCount  characterCount  \n",
       "300               0                  1              56  \n",
       "734               0                  0              39  \n",
       "731               0                  0              39  \n",
       "733               0                  0              35  \n",
       "732               0                  0             106  \n",
       "..              ...                ...             ...  \n",
       "115               0                  0              88  \n",
       "590               0                  0              42  \n",
       "509               1                  1              25  \n",
       "589               0                  0              50  \n",
       "587               0                  0              75  \n",
       "\n",
       "[385 rows x 5 columns]"
      ]
     },
     "execution_count": 75,
     "metadata": {},
     "output_type": "execute_result"
    }
   ],
   "source": [
    "coms_nrl_df['characterCount'] = coms_nrl_df.commentText.apply(len)\n",
    "\n",
    "coms_nrl_df"
   ]
  },
  {
   "cell_type": "markdown",
   "metadata": {},
   "source": [
    "# Word Frequency"
   ]
  },
  {
   "cell_type": "markdown",
   "metadata": {},
   "source": [
    "Making all words lowercase and tokenizing them"
   ]
  },
  {
   "cell_type": "code",
   "execution_count": 76,
   "metadata": {},
   "outputs": [],
   "source": [
    "#Making all lower case\n",
    "lower_coms = [com.lower().split() for com in coms_no_url]\n",
    "# lower_coms[0]"
   ]
  },
  {
   "cell_type": "markdown",
   "metadata": {},
   "source": [
    "Removing stop words"
   ]
  },
  {
   "cell_type": "code",
   "execution_count": 77,
   "metadata": {},
   "outputs": [
    {
     "name": "stderr",
     "output_type": "stream",
     "text": [
      "[nltk_data] Downloading package stopwords to\n",
      "[nltk_data]     C:\\Users\\Sakir\\AppData\\Roaming\\nltk_data...\n",
      "[nltk_data]   Package stopwords is already up-to-date!\n"
     ]
    },
    {
     "data": {
      "text/plain": [
       "True"
      ]
     },
     "execution_count": 77,
     "metadata": {},
     "output_type": "execute_result"
    }
   ],
   "source": [
    "nltk.download('stopwords')"
   ]
  },
  {
   "cell_type": "code",
   "execution_count": 78,
   "metadata": {},
   "outputs": [],
   "source": [
    "stop_words = set(stopwords.words('english'))\n",
    "\n",
    "# Remove stop words from each comment list of words\n",
    "coms_ns = [[com for com in yt_com if not com in stop_words]\n",
    "              for yt_com in lower_coms]\n",
    "# coms_ns[0]"
   ]
  },
  {
   "cell_type": "markdown",
   "metadata": {},
   "source": [
    "Removing collection words"
   ]
  },
  {
   "cell_type": "code",
   "execution_count": 79,
   "metadata": {},
   "outputs": [],
   "source": [
    "collection_words = [\"talabat\", \"uber\", \"eats\", \"deliveroo\", \"food\", \"delivery\", \"zomato\", \n",
    "                    \"carriage\", \"middle\", \"east\", \"middleeast\", \"ubereats\"]\n",
    "\n",
    "# Remove collection words from each comment list of words\n",
    "coms_ncs = [[com for com in yt_com if not com in collection_words]\n",
    "              for yt_com in coms_ns]\n",
    "\n",
    "# coms_ncs[0]"
   ]
  },
  {
   "cell_type": "markdown",
   "metadata": {},
   "source": [
    "Removing Irrelevant words"
   ]
  },
  {
   "cell_type": "code",
   "execution_count": 137,
   "metadata": {},
   "outputs": [],
   "source": [
    "collection_words = [\"guys\", \"guy\", \"sauce\", \"im\", \"would\", \"ive\", \"video\", \"nyc\", \"new york\", \"york\", \n",
    "              \"china\", \"hot\", \"ice\", \"cream\", \"know\", \"try\", \"tried\", \"india\", \"chicago\", \"job\", \"uk\",\n",
    "                    \"australia\", \"2\"]\n",
    "\n",
    "# Remove collection words from each comment list of words\n",
    "coms_nics = [[com for com in yt_com if not com in collection_words]\n",
    "              for yt_com in coms_ncs]\n",
    "\n",
    "# coms_ncs[0]"
   ]
  },
  {
   "cell_type": "code",
   "execution_count": 138,
   "metadata": {},
   "outputs": [],
   "source": [
    "# List of all words across Youtube\n",
    "all_words_coms = list(itertools.chain(*coms_nics))\n",
    "\n",
    "# Create counter\n",
    "counts_nics = collections.Counter(all_words_coms)\n",
    "\n",
    "# counts_no_urls.most_common(15)"
   ]
  },
  {
   "cell_type": "code",
   "execution_count": 139,
   "metadata": {},
   "outputs": [
    {
     "data": {
      "image/png": "[encoded data removed]",
      "text/plain": [
       "<Figure size 720x720 with 1 Axes>"
      ]
     },
     "metadata": {},
     "output_type": "display_data"
    }
   ],
   "source": [
    "common_words_nics = counts_nics.most_common(30)\n",
    "clean_coms_nics_df = pd.DataFrame(common_words_nics,\n",
    "                             columns=['words', 'count'])\n",
    "\n",
    "# clean_coms_nsw_df.head()\n",
    "# create the barplot\n",
    "sns.set(rc={'figure.figsize':(10,10)})\n",
    "common_words_ax = sns.barplot(x=\"count\", y=\"words\", orient='h', data=clean_coms_nics_df)"
   ]
  },
  {
   "cell_type": "markdown",
   "metadata": {},
   "source": [
    "# Bigram"
   ]
  },
  {
   "cell_type": "code",
   "execution_count": 151,
   "metadata": {},
   "outputs": [],
   "source": [
    "from nltk import bigrams"
   ]
  },
  {
   "cell_type": "code",
   "execution_count": 152,
   "metadata": {},
   "outputs": [],
   "source": [
    "# Create list of lists containing bigrams in tweets\n",
    "coms_bigram = [list(bigrams(coms)) for coms in coms_nics]\n",
    "\n",
    "# Flatten list of bigrams in clean tweets\n",
    "bigrams = list(itertools.chain(*coms_bigram))\n",
    "\n",
    "# Create counter of words in clean bigrams\n",
    "bigram_counts = collections.Counter(bigrams)\n",
    "\n",
    "bi_counts = bigram_counts.most_common(16)"
   ]
  },
  {
   "cell_type": "code",
   "execution_count": 153,
   "metadata": {},
   "outputs": [
    {
     "data": {
      "text/html": [
       "<div>\n",
       "<style scoped>\n",
       "    .dataframe tbody tr th:only-of-type {\n",
       "        vertical-align: middle;\n",
       "    }\n",
       "\n",
       "    .dataframe tbody tr th {\n",
       "        vertical-align: top;\n",
       "    }\n",
       "\n",
       "    .dataframe thead th {\n",
       "        text-align: right;\n",
       "    }\n",
       "</style>\n",
       "<table border=\"1\" class=\"dataframe\">\n",
       "  <thead>\n",
       "    <tr style=\"text-align: right;\">\n",
       "      <th></th>\n",
       "      <th>bigram</th>\n",
       "      <th>count</th>\n",
       "    </tr>\n",
       "  </thead>\n",
       "  <tbody>\n",
       "    <tr>\n",
       "      <th>0</th>\n",
       "      <td>(dont, want)</td>\n",
       "      <td>6</td>\n",
       "    </tr>\n",
       "    <tr>\n",
       "      <th>1</th>\n",
       "      <td>(good, work)</td>\n",
       "      <td>4</td>\n",
       "    </tr>\n",
       "    <tr>\n",
       "      <th>2</th>\n",
       "      <td>(first, time)</td>\n",
       "      <td>4</td>\n",
       "    </tr>\n",
       "    <tr>\n",
       "      <th>3</th>\n",
       "      <td>(hire, drivers)</td>\n",
       "      <td>4</td>\n",
       "    </tr>\n",
       "    <tr>\n",
       "      <th>4</th>\n",
       "      <td>(god, bless)</td>\n",
       "      <td>4</td>\n",
       "    </tr>\n",
       "  </tbody>\n",
       "</table>\n",
       "</div>"
      ],
      "text/plain": [
       "            bigram  count\n",
       "0     (dont, want)      6\n",
       "1     (good, work)      4\n",
       "2    (first, time)      4\n",
       "3  (hire, drivers)      4\n",
       "4     (god, bless)      4"
      ]
     },
     "execution_count": 153,
     "metadata": {},
     "output_type": "execute_result"
    }
   ],
   "source": [
    "bigram_df = pd.DataFrame(bi_counts, columns=['bigram', 'count'])\n",
    "\n",
    "bigram_df.head()"
   ]
  },
  {
   "cell_type": "markdown",
   "metadata": {},
   "source": [
    "### Visualizing Bigram"
   ]
  },
  {
   "cell_type": "code",
   "execution_count": 154,
   "metadata": {},
   "outputs": [],
   "source": [
    "# Create dictionary of bigrams and their counts\n",
    "d = bigram_df.set_index('bigram').T.to_dict('records')\n",
    "# Create network plot \n",
    "G = nx.Graph()\n",
    "\n",
    "# Create connections between nodes\n",
    "for k, v in d[0].items():\n",
    "    G.add_edge(k[0], k[1], weight=(v * 11))\n",
    "\n",
    "# G.add_node(\"china\", weight=100)"
   ]
  },
  {
   "cell_type": "code",
   "execution_count": 191,
   "metadata": {
    "scrolled": false
   },
   "outputs": [
    {
     "data": {
      "image/png": "[encoded data removed]",
      "text/plain": [
       "<Figure size 1080x864 with 1 Axes>"
      ]
     },
     "metadata": {},
     "output_type": "display_data"
    }
   ],
   "source": [
    "# Draw the network using NetworkX and matplotlib\n",
    "fig, ax = plt.subplots(figsize=(15, 12))\n",
    "pos = nx.spring_layout(G, k=2)\n",
    "\n",
    "# Plot networks\n",
    "nx.draw_networkx(G, pos,\n",
    "                 font_size=15,\n",
    "                 width=3,\n",
    "                 edge_color='grey',\n",
    "                 node_color='purple',\n",
    "                 with_labels = False,\n",
    "                 ax=ax)\n",
    "plt.title(\"Frequency of words occurring together on Youtube during COVID\", fontsize=35)\n",
    "\n",
    "# ax.tick_params(left=True, bottom=True, labelleft=True, labelbottom=True)\n",
    "ax.set_facecolor('white')\n",
    "# Create offset labels\n",
    "for key, value in pos.items():\n",
    "    x, y = value[0]-0.015, value[1]+0.025\n",
    "    ax.text(x, y,\n",
    "            s=key,\n",
    "            bbox=dict(facecolor='red', alpha=0.25),\n",
    "        horizontalalignment='center', fontsize=20)\n",
    "    \n",
    "plt.show()"
   ]
  },
  {
   "cell_type": "markdown",
   "metadata": {},
   "source": [
    "# Sentiment Analysis"
   ]
  },
  {
   "cell_type": "code",
   "execution_count": 89,
   "metadata": {},
   "outputs": [],
   "source": [
    "from textblob import TextBlob"
   ]
  },
  {
   "cell_type": "code",
   "execution_count": 90,
   "metadata": {},
   "outputs": [],
   "source": [
    "sentiment = [TextBlob(coms) for coms in coms_no_url]\n",
    "# Create list of polarity valuesx and tweet text\n",
    "sentiment_values = [round(coms.sentiment.polarity, 1) for coms in sentiment]\n",
    "\n",
    "# Create dataframe containing the polarity value and tweet text\n",
    "# sentiment_df = pd.DataFrame(sentiment_values, columns=[\"polarity\", \"comments\"])\n",
    "# coms_no_url_df.drop(coms_no_url_df.columns[5], axis=1, inplace=True)\n",
    "coms_nrl_df['Polarity'] = sentiment_values\n",
    "\n",
    "# coms_nrl_df"
   ]
  },
  {
   "cell_type": "code",
   "execution_count": 91,
   "metadata": {
    "scrolled": true
   },
   "outputs": [
    {
     "data": {
      "text/html": [
       "<div>\n",
       "<style scoped>\n",
       "    .dataframe tbody tr th:only-of-type {\n",
       "        vertical-align: middle;\n",
       "    }\n",
       "\n",
       "    .dataframe tbody tr th {\n",
       "        vertical-align: top;\n",
       "    }\n",
       "\n",
       "    .dataframe thead th {\n",
       "        text-align: right;\n",
       "    }\n",
       "</style>\n",
       "<table border=\"1\" class=\"dataframe\">\n",
       "  <thead>\n",
       "    <tr style=\"text-align: right;\">\n",
       "      <th></th>\n",
       "      <th>totalLikeCount</th>\n",
       "      <th>totalRepliesCount</th>\n",
       "      <th>characterCount</th>\n",
       "      <th>Polarity</th>\n",
       "    </tr>\n",
       "  </thead>\n",
       "  <tbody>\n",
       "    <tr>\n",
       "      <th>count</th>\n",
       "      <td>240.000000</td>\n",
       "      <td>240.000000</td>\n",
       "      <td>240.00000</td>\n",
       "      <td>240.000000</td>\n",
       "    </tr>\n",
       "    <tr>\n",
       "      <th>mean</th>\n",
       "      <td>3.608333</td>\n",
       "      <td>0.850000</td>\n",
       "      <td>120.42500</td>\n",
       "      <td>0.267917</td>\n",
       "    </tr>\n",
       "    <tr>\n",
       "      <th>std</th>\n",
       "      <td>20.056946</td>\n",
       "      <td>2.031756</td>\n",
       "      <td>167.74835</td>\n",
       "      <td>0.381272</td>\n",
       "    </tr>\n",
       "    <tr>\n",
       "      <th>min</th>\n",
       "      <td>0.000000</td>\n",
       "      <td>0.000000</td>\n",
       "      <td>8.00000</td>\n",
       "      <td>-1.000000</td>\n",
       "    </tr>\n",
       "    <tr>\n",
       "      <th>25%</th>\n",
       "      <td>0.000000</td>\n",
       "      <td>0.000000</td>\n",
       "      <td>44.75000</td>\n",
       "      <td>0.100000</td>\n",
       "    </tr>\n",
       "    <tr>\n",
       "      <th>50%</th>\n",
       "      <td>0.000000</td>\n",
       "      <td>0.000000</td>\n",
       "      <td>77.50000</td>\n",
       "      <td>0.300000</td>\n",
       "    </tr>\n",
       "    <tr>\n",
       "      <th>75%</th>\n",
       "      <td>1.000000</td>\n",
       "      <td>1.000000</td>\n",
       "      <td>137.25000</td>\n",
       "      <td>0.500000</td>\n",
       "    </tr>\n",
       "    <tr>\n",
       "      <th>max</th>\n",
       "      <td>211.000000</td>\n",
       "      <td>17.000000</td>\n",
       "      <td>1840.00000</td>\n",
       "      <td>1.000000</td>\n",
       "    </tr>\n",
       "  </tbody>\n",
       "</table>\n",
       "</div>"
      ],
      "text/plain": [
       "       totalLikeCount  totalRepliesCount  characterCount    Polarity\n",
       "count      240.000000         240.000000       240.00000  240.000000\n",
       "mean         3.608333           0.850000       120.42500    0.267917\n",
       "std         20.056946           2.031756       167.74835    0.381272\n",
       "min          0.000000           0.000000         8.00000   -1.000000\n",
       "25%          0.000000           0.000000        44.75000    0.100000\n",
       "50%          0.000000           0.000000        77.50000    0.300000\n",
       "75%          1.000000           1.000000       137.25000    0.500000\n",
       "max        211.000000          17.000000      1840.00000    1.000000"
      ]
     },
     "execution_count": 91,
     "metadata": {},
     "output_type": "execute_result"
    }
   ],
   "source": [
    "# Remove polarity values equal to zero\n",
    "coms_nrl_df = coms_nrl_df[coms_nrl_df.Polarity != 0]\n",
    "\n",
    "coms_nrl_df.describe()"
   ]
  },
  {
   "cell_type": "code",
   "execution_count": 92,
   "metadata": {},
   "outputs": [
    {
     "data": {
      "text/html": [
       "<div>\n",
       "<style scoped>\n",
       "    .dataframe tbody tr th:only-of-type {\n",
       "        vertical-align: middle;\n",
       "    }\n",
       "\n",
       "    .dataframe tbody tr th {\n",
       "        vertical-align: top;\n",
       "    }\n",
       "\n",
       "    .dataframe thead th {\n",
       "        text-align: right;\n",
       "    }\n",
       "</style>\n",
       "<table border=\"1\" class=\"dataframe\">\n",
       "  <thead>\n",
       "    <tr style=\"text-align: right;\">\n",
       "      <th></th>\n",
       "      <th>commentDate</th>\n",
       "      <th>commentText</th>\n",
       "      <th>totalLikeCount</th>\n",
       "      <th>totalRepliesCount</th>\n",
       "      <th>characterCount</th>\n",
       "      <th>Polarity</th>\n",
       "      <th>Sentiment</th>\n",
       "    </tr>\n",
       "  </thead>\n",
       "  <tbody>\n",
       "    <tr>\n",
       "      <th>300</th>\n",
       "      <td>2020-03-04</td>\n",
       "      <td>Bhai cream main kya rate milta hy 1 delevery p...</td>\n",
       "      <td>0</td>\n",
       "      <td>1</td>\n",
       "      <td>56</td>\n",
       "      <td>0.2</td>\n",
       "      <td>Positive</td>\n",
       "    </tr>\n",
       "    <tr>\n",
       "      <th>733</th>\n",
       "      <td>2020-03-07</td>\n",
       "      <td>This food looks amazing Great story</td>\n",
       "      <td>0</td>\n",
       "      <td>0</td>\n",
       "      <td>35</td>\n",
       "      <td>0.7</td>\n",
       "      <td>Positive</td>\n",
       "    </tr>\n",
       "    <tr>\n",
       "      <th>732</th>\n",
       "      <td>2020-03-07</td>\n",
       "      <td>typical Americans thinking theyre the only one...</td>\n",
       "      <td>0</td>\n",
       "      <td>0</td>\n",
       "      <td>106</td>\n",
       "      <td>-0.1</td>\n",
       "      <td>Negative</td>\n",
       "    </tr>\n",
       "    <tr>\n",
       "      <th>730</th>\n",
       "      <td>2020-03-08</td>\n",
       "      <td>Im happy for them but Mahmouds in Astoria is t...</td>\n",
       "      <td>0</td>\n",
       "      <td>0</td>\n",
       "      <td>68</td>\n",
       "      <td>0.9</td>\n",
       "      <td>Positive</td>\n",
       "    </tr>\n",
       "    <tr>\n",
       "      <th>723</th>\n",
       "      <td>2020-03-09</td>\n",
       "      <td>I freaking love it I wish these guys the best ...</td>\n",
       "      <td>0</td>\n",
       "      <td>0</td>\n",
       "      <td>104</td>\n",
       "      <td>0.8</td>\n",
       "      <td>Positive</td>\n",
       "    </tr>\n",
       "    <tr>\n",
       "      <th>...</th>\n",
       "      <td>...</td>\n",
       "      <td>...</td>\n",
       "      <td>...</td>\n",
       "      <td>...</td>\n",
       "      <td>...</td>\n",
       "      <td>...</td>\n",
       "      <td>...</td>\n",
       "    </tr>\n",
       "    <tr>\n",
       "      <th>596</th>\n",
       "      <td>2020-07-01</td>\n",
       "      <td>I could care less if the people who cook the f...</td>\n",
       "      <td>0</td>\n",
       "      <td>0</td>\n",
       "      <td>225</td>\n",
       "      <td>0.1</td>\n",
       "      <td>Positive</td>\n",
       "    </tr>\n",
       "    <tr>\n",
       "      <th>595</th>\n",
       "      <td>2020-07-02</td>\n",
       "      <td>When are you coming to India Bengaluru would b...</td>\n",
       "      <td>1</td>\n",
       "      <td>1</td>\n",
       "      <td>60</td>\n",
       "      <td>0.7</td>\n",
       "      <td>Positive</td>\n",
       "    </tr>\n",
       "    <tr>\n",
       "      <th>594</th>\n",
       "      <td>2020-07-03</td>\n",
       "      <td>I wanna go there and taste the scrumptious foo...</td>\n",
       "      <td>0</td>\n",
       "      <td>0</td>\n",
       "      <td>66</td>\n",
       "      <td>-0.1</td>\n",
       "      <td>Negative</td>\n",
       "    </tr>\n",
       "    <tr>\n",
       "      <th>592</th>\n",
       "      <td>2020-07-05</td>\n",
       "      <td>Every gyro spot is 100000 times better than th...</td>\n",
       "      <td>0</td>\n",
       "      <td>0</td>\n",
       "      <td>112</td>\n",
       "      <td>0.5</td>\n",
       "      <td>Positive</td>\n",
       "    </tr>\n",
       "    <tr>\n",
       "      <th>441</th>\n",
       "      <td>2020-07-06</td>\n",
       "      <td>Good wark brother</td>\n",
       "      <td>0</td>\n",
       "      <td>0</td>\n",
       "      <td>17</td>\n",
       "      <td>0.7</td>\n",
       "      <td>Positive</td>\n",
       "    </tr>\n",
       "  </tbody>\n",
       "</table>\n",
       "<p>240 rows × 7 columns</p>\n",
       "</div>"
      ],
      "text/plain": [
       "    commentDate                                        commentText  \\\n",
       "300  2020-03-04  Bhai cream main kya rate milta hy 1 delevery p...   \n",
       "733  2020-03-07                This food looks amazing Great story   \n",
       "732  2020-03-07  typical Americans thinking theyre the only one...   \n",
       "730  2020-03-08  Im happy for them but Mahmouds in Astoria is t...   \n",
       "723  2020-03-09  I freaking love it I wish these guys the best ...   \n",
       "..          ...                                                ...   \n",
       "596  2020-07-01  I could care less if the people who cook the f...   \n",
       "595  2020-07-02  When are you coming to India Bengaluru would b...   \n",
       "594  2020-07-03  I wanna go there and taste the scrumptious foo...   \n",
       "592  2020-07-05  Every gyro spot is 100000 times better than th...   \n",
       "441  2020-07-06                                  Good wark brother   \n",
       "\n",
       "     totalLikeCount  totalRepliesCount  characterCount  Polarity Sentiment  \n",
       "300               0                  1              56       0.2  Positive  \n",
       "733               0                  0              35       0.7  Positive  \n",
       "732               0                  0             106      -0.1  Negative  \n",
       "730               0                  0              68       0.9  Positive  \n",
       "723               0                  0             104       0.8  Positive  \n",
       "..              ...                ...             ...       ...       ...  \n",
       "596               0                  0             225       0.1  Positive  \n",
       "595               1                  1              60       0.7  Positive  \n",
       "594               0                  0              66      -0.1  Negative  \n",
       "592               0                  0             112       0.5  Positive  \n",
       "441               0                  0              17       0.7  Positive  \n",
       "\n",
       "[240 rows x 7 columns]"
      ]
     },
     "execution_count": 92,
     "metadata": {},
     "output_type": "execute_result"
    }
   ],
   "source": [
    "coms_nrl_df.loc[coms_nrl_df.Polarity > 0.0, 'Sentiment'] = 'Positive'\n",
    "coms_nrl_df.loc[coms_nrl_df.Polarity < 0.0, 'Sentiment'] = 'Negative'\n",
    "\n",
    "coms_nrl_df"
   ]
  },
  {
   "cell_type": "code",
   "execution_count": 109,
   "metadata": {
    "scrolled": false
   },
   "outputs": [
    {
     "data": {
      "image/png": "[encoded data removed]",
      "text/plain": [
       "<Figure size 720x720 with 1 Axes>"
      ]
     },
     "metadata": {},
     "output_type": "display_data"
    }
   ],
   "source": [
    "N, bins, patches = plt.hist(coms_nrl_df['Polarity'], 8)\n",
    "\n",
    "cmap = plt.get_cmap('jet')\n",
    "low = cmap(0.9)\n",
    "medium =cmap(0.4)\n",
    "# high = cmap(0.7)\n",
    "\n",
    "\n",
    "for i in range(0,4):\n",
    "    patches[i].set_facecolor(low)\n",
    "for i in range(4,8):\n",
    "    patches[i].set_facecolor(medium)\n",
    "\n",
    "plt.xlabel(\"Polarity\", fontsize=12)  \n",
    "plt.ylabel(\"Number of Occurence\", fontsize=12)\n",
    "\n",
    "plt.title(\"Distribution of Sentiments on food delivery services during COVID\", fontsize=16)\n",
    "ax = plt.subplot(111)  \n",
    "\n",
    "\n",
    "plt.show()"
   ]
  },
  {
   "cell_type": "code",
   "execution_count": 186,
   "metadata": {},
   "outputs": [
    {
     "data": {
      "text/plain": [
       "<matplotlib.lines.Line2D at 0x17f4db55dd8>"
      ]
     },
     "execution_count": 186,
     "metadata": {},
     "output_type": "execute_result"
    },
    {
     "data": {
      "image/png": "[encoded data removed]",
      "text/plain": [
       "<Figure size 432x288 with 1 Axes>"
      ]
     },
     "metadata": {},
     "output_type": "display_data"
    }
   ],
   "source": [
    "x = coms_nrl_df['Polarity'].values # array with revenues only\n",
    "sns.set_style(\"white\")\n",
    "sns.distplot(x, color = 'red', bins=8, kde=True, norm_hist=True); # distplot stands for distribution plot\n",
    "\n",
    "plt.title(\"Distribution of Sentiments on food delivery services during COVID on Youtube\", fontsize=16)\n",
    "plt.xlabel(\"Sentiment\", fontsize=14)  \n",
    "plt.ylabel(\"Probability Density\", fontsize=14)  \n",
    "plt.xticks([-1,0,1])\n",
    "# plt.yticks()\n",
    "# Calculating the mean\n",
    "mean = coms_nrl_df['Polarity'].mean()\n",
    "\n",
    "#ploting the mean using matplotlib\n",
    "plt.axvline(mean, color = 'blue') # axvline: Axis Vertical Line"
   ]
  },
  {
   "cell_type": "code",
   "execution_count": null,
   "metadata": {},
   "outputs": [],
   "source": []
  },
  {
   "cell_type": "markdown",
   "metadata": {},
   "source": [
    "## Percentage of Positive and Negative"
   ]
  },
  {
   "cell_type": "code",
   "execution_count": 94,
   "metadata": {},
   "outputs": [
    {
     "data": {
      "text/plain": [
       "(0.0, 1.0]       81.25\n",
       "(-1.003, 0.0]    18.75\n",
       "Name: Polarity, dtype: float64"
      ]
     },
     "execution_count": 94,
     "metadata": {},
     "output_type": "execute_result"
    }
   ],
   "source": [
    "sentiment_p = coms_nrl_df['Polarity'].value_counts(normalize=True, bins=2)*100\n",
    "\n",
    "sentiment_p"
   ]
  },
  {
   "cell_type": "code",
   "execution_count": 95,
   "metadata": {},
   "outputs": [
    {
     "data": {
      "text/html": [
       "<div>\n",
       "<style scoped>\n",
       "    .dataframe tbody tr th:only-of-type {\n",
       "        vertical-align: middle;\n",
       "    }\n",
       "\n",
       "    .dataframe tbody tr th {\n",
       "        vertical-align: top;\n",
       "    }\n",
       "\n",
       "    .dataframe thead th {\n",
       "        text-align: right;\n",
       "    }\n",
       "</style>\n",
       "<table border=\"1\" class=\"dataframe\">\n",
       "  <thead>\n",
       "    <tr style=\"text-align: right;\">\n",
       "      <th></th>\n",
       "      <th>Polarity</th>\n",
       "      <th>Sentiment</th>\n",
       "    </tr>\n",
       "  </thead>\n",
       "  <tbody>\n",
       "    <tr>\n",
       "      <th>(0.0, 1.0]</th>\n",
       "      <td>81.25</td>\n",
       "      <td>positive</td>\n",
       "    </tr>\n",
       "    <tr>\n",
       "      <th>(-1.003, 0.0]</th>\n",
       "      <td>18.75</td>\n",
       "      <td>negative</td>\n",
       "    </tr>\n",
       "  </tbody>\n",
       "</table>\n",
       "</div>"
      ],
      "text/plain": [
       "               Polarity Sentiment\n",
       "(0.0, 1.0]        81.25  positive\n",
       "(-1.003, 0.0]     18.75  negative"
      ]
     },
     "execution_count": 95,
     "metadata": {},
     "output_type": "execute_result"
    }
   ],
   "source": [
    "sentiment_np_df = sentiment_p.to_frame()\n",
    "sentiment_np_df['Sentiment'] = [\"positive\", \"negative\"]\n",
    "sentiment_np_df"
   ]
  },
  {
   "cell_type": "code",
   "execution_count": 96,
   "metadata": {
    "scrolled": false
   },
   "outputs": [
    {
     "data": {
      "image/png": "[encoded data removed]",
      "text/plain": [
       "<Figure size 720x720 with 1 Axes>"
      ]
     },
     "metadata": {},
     "output_type": "display_data"
    }
   ],
   "source": [
    "# sentiment_p_df = pd.DataFrame(sentiment_p, columns=[\"sentiment\", \"percentage\"])\n",
    "# sentiment_p_df\n",
    "\n",
    "fig, ax = plt.subplots()\n",
    "\n",
    "sns.barplot(x=\"Sentiment\", y=\"Polarity\", data=sentiment_np_df, ax=ax)\n",
    "plt.xlabel(\"Sentiment\", fontsize=12)  \n",
    "plt.ylabel(\"Percentage (%)\", fontsize=12)\n",
    "# plt.title(\"Distribution of Sentiments on food delivery services During COVID\", fontsize=15)\n",
    "def change_width(ax, new_value) :\n",
    "    for patch in ax.patches :\n",
    "        current_width = patch.get_width()\n",
    "        diff = current_width - new_value\n",
    "\n",
    "        # we change the bar width\n",
    "        patch.set_width(new_value)\n",
    "\n",
    "        # we recenter the bar\n",
    "        patch.set_x(patch.get_x() + diff * .5)\n",
    "\n",
    "change_width(ax, .35)\n",
    "    \n",
    "plt.show()"
   ]
  },
  {
   "cell_type": "markdown",
   "metadata": {},
   "source": [
    "# Correlation"
   ]
  },
  {
   "cell_type": "code",
   "execution_count": 97,
   "metadata": {},
   "outputs": [
    {
     "data": {
      "image/png": "[encoded data removed]",
      "text/plain": [
       "<Figure size 720x720 with 1 Axes>"
      ]
     },
     "metadata": {},
     "output_type": "display_data"
    }
   ],
   "source": [
    "ax = sns.lineplot(x='totalLikeCount', y='totalRepliesCount', hue = 'Sentiment', style = 'Sentiment', data = coms_nrl_df, ci=None,  markers=True)\n",
    "ax.set_facecolor('white')"
   ]
  },
  {
   "cell_type": "code",
   "execution_count": 103,
   "metadata": {},
   "outputs": [
    {
     "data": {
      "image/png": "[encoded data removed]",
      "text/plain": [
       "<Figure size 720x720 with 1 Axes>"
      ]
     },
     "metadata": {},
     "output_type": "display_data"
    }
   ],
   "source": [
    "ax = sns.lineplot(x='Polarity', y='totalLikeCount', data = coms_nrl_df, ci=None,  markers=True)\n",
    "ax.set_facecolor('white')"
   ]
  }
 ],
 "metadata": {
  "kernelspec": {
   "display_name": "Python 3",
   "language": "python",
   "name": "python3"
  },
  "language_info": {
   "codemirror_mode": {
    "name": "ipython",
    "version": 3
   },
   "file_extension": ".py",
   "mimetype": "text/x-python",
   "name": "python",
   "nbconvert_exporter": "python",
   "pygments_lexer": "ipython3",
   "version": "3.7.3"
  }
 },
 "nbformat": 4,
 "nbformat_minor": 4
}
